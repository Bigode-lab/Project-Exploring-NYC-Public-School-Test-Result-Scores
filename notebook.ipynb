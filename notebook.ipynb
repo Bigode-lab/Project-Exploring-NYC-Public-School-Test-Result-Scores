{
 "cells": [
  {
   "cell_type": "markdown",
   "id": "fe0ea788-58dd-459e-8976-fafdb5c05c6d",
   "metadata": {},
   "source": [
    "![New York City schoolbus](schoolbus.jpg)\n",
    "\n",
    "Photo by [Jannis Lucas](https://unsplash.com/@jannis_lucas) on [Unsplash](https://unsplash.com).\n",
    "<br>\n",
    "\n",
    "Every year, American high school students take SATs, which are standardized tests intended to measure literacy, numeracy, and writing skills. There are three sections - reading, math, and writing, each with a **maximum score of 800 points**. These tests are extremely important for students and colleges, as they play a pivotal role in the admissions process.\n",
    "\n",
    "Analyzing the performance of schools is important for a variety of stakeholders, including policy and education professionals, researchers, government, and even parents considering which school their children should attend. \n",
    "\n",
    "You have been provided with a dataset called `schools.csv`, which is previewed below.\n",
    "\n",
    "You have been tasked with answering three key questions about New York City (NYC) public school SAT performance."
   ]
  },
  {
   "cell_type": "code",
   "execution_count": 63,
   "id": "d0eb4f16-5a99-460d-a5ba-706b7ef0bbe7",
   "metadata": {
    "chartConfig": {
     "bar": {
      "hasRoundedCorners": true,
      "stacked": false
     },
     "type": "bar",
     "version": "v1"
    },
    "collapsed": true,
    "executionCancelledAt": null,
    "executionTime": 16,
    "id": "bA5ajAmk7XH6",
    "jupyter": {
     "outputs_hidden": true,
     "source_hidden": false
    },
    "lastExecutedAt": 1731947400761,
    "lastExecutedByKernel": "75519e64-c7ac-4057-8398-4610dd539e3a",
    "lastScheduledRunId": null,
    "lastSuccessfullyExecutedCode": "# Re-run this cell \nimport pandas as pd\n\n# Read in the data\nschools = pd.read_csv(\"schools.csv\")\n",
    "outputsMetadata": {
     "0": {
      "height": 80,
      "type": "stream"
     }
    },
    "visualizeDataframe": false
   },
   "outputs": [],
   "source": [
    "# Re-run this cell \n",
    "import pandas as pd\n",
    "\n",
    "# Read in the data\n",
    "schools = pd.read_csv(\"schools.csv\")\n"
   ]
  },
  {
   "cell_type": "markdown",
   "id": "a7439669-3324-4e77-9399-4a07cb964e28",
   "metadata": {},
   "source": [
    "First, I separated the data of the schools with an average math score greater than or equal to 80% of the total possible correct answers, which is 640, into the DataFrame best_math_schools. I created the best_math_schools DataFrame, which stores the data from the columns school_name and average_math, sorted in descending order"
   ]
  },
  {
   "cell_type": "code",
   "execution_count": 64,
   "id": "7f63a095-e699-4298-8116-5cac58f58f94",
   "metadata": {
    "executionCancelledAt": null,
    "executionTime": 51,
    "lastExecutedAt": 1731947400812,
    "lastExecutedByKernel": "75519e64-c7ac-4057-8398-4610dd539e3a",
    "lastScheduledRunId": null,
    "lastSuccessfullyExecutedCode": "#the best math results \nbest_math_schools_aux = schools[schools[\"average_math\"] >= 800*0.8]\nbest_math_schools = best_math_schools_aux[[\"school_name\", \"average_math\"]].sort_values(\"average_math\", ascending=False)",
    "outputsMetadata": {
     "0": {
      "height": 239,
      "type": "dataFrame"
     }
    }
   },
   "outputs": [],
   "source": [
    "#the best math results \n",
    "best_math_schools_aux = schools[schools[\"average_math\"] >= 800*0.8]\n",
    "best_math_schools = best_math_schools_aux[[\"school_name\", \"average_math\"]].sort_values(\"average_math\", ascending=False)"
   ]
  },
  {
   "cell_type": "markdown",
   "id": "c6dd5e02-5434-4fd4-82cc-e616c1a41985",
   "metadata": {},
   "source": [
    "I created a column called total_SAT, which stores the sum of the values from the columns average_math, average_reading, and average_writing for each row. Then, I created the top_10_schools DataFrame, which stores the columns school_name and total_SAT, sorted in descending order by the values in total_SAT, limited to the first 10 rows."
   ]
  },
  {
   "cell_type": "code",
   "execution_count": 65,
   "id": "73f4eb77-e197-4aed-a2de-bedb9f9051dd",
   "metadata": {
    "executionCancelledAt": null,
    "executionTime": 65,
    "lastExecutedAt": 1731947400877,
    "lastExecutedByKernel": "75519e64-c7ac-4057-8398-4610dd539e3a",
    "lastScheduledRunId": null,
    "lastSuccessfullyExecutedCode": "#top 10 performing schools\nschools[\"total_SAT\"] = schools[[\"average_math\", \"average_reading\", \"average_writing\"]].sum(axis=1)\ntop_10_schools = schools[[\"school_name\", \"total_SAT\"]].sort_values(\"total_SAT\", ascending=False).head(10)"
   },
   "outputs": [],
   "source": [
    "#top 10 performing schools\n",
    "schools[\"total_SAT\"] = schools[[\"average_math\", \"average_reading\", \"average_writing\"]].sum(axis=1)\n",
    "top_10_schools = schools[[\"school_name\", \"total_SAT\"]].sort_values(\"total_SAT\", ascending=False).head(10)"
   ]
  },
  {
   "cell_type": "markdown",
   "id": "72278f81-0286-4f21-8522-83c9e8647f80",
   "metadata": {},
   "source": [
    "I grouped the data by borough, selected the total_SAT column within each group, and calculated the mean, storing the result in the new column average_SAT. I also calculated the standard deviations and stored them in std_SAT, and the number of schools in each borough, which I added to the column num_schools. All the newly created columns were rounded to 2 decimal places.\n",
    "\n",
    "I identified the borough with the highest standard deviation and then created the DataFrame largest_std_dev, which contains the data of the borough with the highest standard deviation."
   ]
  },
  {
   "cell_type": "code",
   "execution_count": null,
   "id": "d2ac1cec-4587-4a02-8a84-6ae3b00297f0",
   "metadata": {
    "chartConfig": {
     "bar": {
      "hasRoundedCorners": true,
      "stacked": false
     },
     "type": "bar",
     "version": "v1"
    },
    "executionCancelledAt": null,
    "executionTime": 55,
    "lastExecutedAt": 1731947400932,
    "lastExecutedByKernel": "75519e64-c7ac-4057-8398-4610dd539e3a",
    "lastScheduledRunId": null,
    "lastSuccessfullyExecutedCode": "borough = schools.groupby(\"borough\")[\"total_SAT\"].agg(\n    average_SAT=\"mean\", std_SAT=\"std\", num_schools=\"count\"\n).round(2)\n\n# Encontrando o bairro com o maior desvio padrão\nborough_with_highest_std_dev = borough[\"std_SAT\"].idxmax()\n\n# Filtrando o DataFrame 'borough' para o bairro com o maior desvio padrão\nlargest_std_dev = borough.loc[borough.index == borough_with_highest_std_dev]\n",
    "outputsMetadata": {
     "0": {
      "height": 80,
      "type": "stream"
     }
    },
    "visualizeDataframe": false
   },
   "outputs": [],
   "source": [
    "borough = schools.groupby(\"borough\")[\"total_SAT\"].agg(\n",
    "    average_SAT=\"mean\", std_SAT=\"std\", num_schools=\"count\"\n",
    ").round(2)\n",
    "\n",
    "borough_with_highest_std_dev = borough[\"std_SAT\"].idxmax()\n",
    "\n",
    "largest_std_dev = borough.loc[borough.index == borough_with_highest_std_dev]\n"
   ]
  }
 ],
 "metadata": {
  "editor": "DataLab",
  "kernelspec": {
   "display_name": "Python 3 (ipykernel)",
   "language": "python",
   "name": "python3"
  },
  "language_info": {
   "codemirror_mode": {
    "name": "ipython",
    "version": 3
   },
   "file_extension": ".py",
   "mimetype": "text/x-python",
   "name": "python",
   "nbconvert_exporter": "python",
   "pygments_lexer": "ipython3",
   "version": "3.8.10"
  }
 },
 "nbformat": 4,
 "nbformat_minor": 5
}
